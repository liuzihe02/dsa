{
 "cells": [
  {
   "cell_type": "markdown",
   "metadata": {},
   "source": [
    "## Problem: Longest Consecutive Sequence\n",
    "\n",
    "Given an array of integers nums, return the length of the longest consecutive sequence of elements.\n",
    "\n",
    "A consecutive sequence is a sequence of elements in which each element is exactly 1 greater than the previous element.\n",
    "\n",
    "You must write an algorithm that runs in O(n) time."
   ]
  },
  {
   "cell_type": "code",
   "execution_count": 1,
   "metadata": {},
   "outputs": [],
   "source": [
    "from typing import List\n",
    "\n",
    "#my sol, need to deal with alot of edge cases\n",
    "def longestConsecutive(nums) -> int:\n",
    "    #this step is not O(n) oops, this is O(nlogn)\n",
    "    all=sorted(set(nums))\n",
    "    \n",
    "    print(all)\n",
    "    maxlen=1\n",
    "    L=0\n",
    "    for R in range(1,len(all)):\n",
    "        if all[R]!=all[R-1]+1:\n",
    "            print(all[L],all[R])\n",
    "            maxlen=max(maxlen,R-L)\n",
    "            #get the prev longest list\n",
    "            L=R\n",
    "        if R==len(all)-1:\n",
    "            maxlen=max(maxlen,R-L+1)\n",
    "    return maxlen if all else 0"
   ]
  },
  {
   "cell_type": "code",
   "execution_count": 2,
   "metadata": {},
   "outputs": [],
   "source": [
    "#neetcode, quite smart lol\n",
    "def longestConsecutive( nums: List[int]) -> int:\n",
    "    numSet = set(nums)\n",
    "    longest = 0\n",
    "\n",
    "    for n in numSet:\n",
    "        #this for + if loop iterates over /finds all the START of sequences\n",
    "        if (n - 1) not in numSet:\n",
    "            length = 1\n",
    "            while (n + length) in numSet:\n",
    "                length += 1\n",
    "            #this loop basically updates longest sequence!\n",
    "            longest = max(length, longest)\n",
    "    return longest\n"
   ]
  },
  {
   "cell_type": "markdown",
   "metadata": {},
   "source": [
    "## Problem: Greatest Common Divisor in strings\n",
    "\n",
    "For two strings s and t, we say \"t divides s\" if and only if s = t + t + t + ... + t + t (i.e., t is concatenated with itself one or more times).\n",
    "\n",
    "Given two strings str1 and str2, return the largest string x such that x divides both str1 and str2.\n",
    "\n",
    "Example 1:\n",
    "\n",
    "Input: str1 = \"ABCABC\", str2 = \"ABC\"\n",
    "Output: \"ABC\"\n",
    "Example 2:\n",
    "\n",
    "Input: str1 = \"ABABAB\", str2 = \"ABAB\"\n",
    "Output: \"AB\"\n",
    "Example 3:\n",
    "\n",
    "Input: str1 = \"LEET\", str2 = \"CODE\"\n",
    "Output: \"\""
   ]
  },
  {
   "cell_type": "code",
   "execution_count": null,
   "metadata": {},
   "outputs": [],
   "source": [
    "#mysol\n",
    "class Solution:\n",
    "    def gcdOfStrings(self, str1: str, str2: str) -> str:\n",
    "        #note that from observation the first unit must contain the index 0. cannot start partially\n",
    "        \n",
    "        def check(s,t):\n",
    "            #lengths match\n",
    "            if len(s)%len(t)==0:\n",
    "                #integer division\n",
    "                if s==t*(len(s)//len(t)):\n",
    "                    return True\n",
    "            return False\n",
    "        #assume this substring ends at index 0\n",
    "        largest=0\n",
    "        \n",
    "        #iterate over the smaller string, checking all possible substrings from the start\n",
    "        #start from the first index which is 1 because it is ending\n",
    "        for i in range(1,min(len(str1),len(str2))+1):\n",
    "            print(str1[:i],str2[:i])\n",
    "            #must be the same, otherwise end up like 'LEET' 'CODE'\n",
    "            if str1[:i]==str2[:i]:\n",
    "                if check(str1,str1[:i]) and check(str2,str2[:i]):\n",
    "                    if i>largest:\n",
    "                        largest=i\n",
    "        \n",
    "        return str1[:largest]\n"
   ]
  },
  {
   "cell_type": "code",
   "execution_count": null,
   "metadata": {},
   "outputs": [],
   "source": [
    "#theirsol\n",
    "from math import gcd\n",
    "class Solution:\n",
    "    def gcdOfStrings(self, str1: str, str2: str) -> str:\n",
    "        #must be composed of repeating subunits\n",
    "        if(str1+str2!=str2+str1):\n",
    "            return \"\"\n",
    "        #holy shit\n",
    "        return str1[:gcd(len(str1),len(str2))]\n",
    "        "
   ]
  }
 ],
 "metadata": {
  "kernelspec": {
   "display_name": "venv",
   "language": "python",
   "name": "python3"
  },
  "language_info": {
   "codemirror_mode": {
    "name": "ipython",
    "version": 3
   },
   "file_extension": ".py",
   "mimetype": "text/x-python",
   "name": "python",
   "nbconvert_exporter": "python",
   "pygments_lexer": "ipython3",
   "version": "3.10.12"
  }
 },
 "nbformat": 4,
 "nbformat_minor": 2
}
