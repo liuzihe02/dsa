{
 "cells": [
  {
   "cell_type": "markdown",
   "metadata": {},
   "source": [
    "## Problem: Longest Consecutive Sequence\n",
    "\n",
    "Given an array of integers nums, return the length of the longest consecutive sequence of elements.\n",
    "\n",
    "A consecutive sequence is a sequence of elements in which each element is exactly 1 greater than the previous element.\n",
    "\n",
    "You must write an algorithm that runs in O(n) time."
   ]
  },
  {
   "cell_type": "code",
   "execution_count": 1,
   "metadata": {},
   "outputs": [],
   "source": [
    "from typing import List\n",
    "\n",
    "#my sol, need to deal with alot of edge cases\n",
    "def longestConsecutive(nums) -> int:\n",
    "    #this step is not O(n) oops, this is O(nlogn)\n",
    "    all=sorted(set(nums))\n",
    "    \n",
    "    print(all)\n",
    "    maxlen=1\n",
    "    L=0\n",
    "    for R in range(1,len(all)):\n",
    "        if all[R]!=all[R-1]+1:\n",
    "            print(all[L],all[R])\n",
    "            maxlen=max(maxlen,R-L)\n",
    "            #get the prev longest list\n",
    "            L=R\n",
    "        if R==len(all)-1:\n",
    "            maxlen=max(maxlen,R-L+1)\n",
    "    return maxlen if all else 0"
   ]
  },
  {
   "cell_type": "code",
   "execution_count": 2,
   "metadata": {},
   "outputs": [],
   "source": [
    "#neetcode, quite smart lol\n",
    "def longestConsecutive( nums: List[int]) -> int:\n",
    "    numSet = set(nums)\n",
    "    longest = 0\n",
    "\n",
    "    for n in numSet:\n",
    "        #this for + if loop iterates over /finds all the START of sequences\n",
    "        if (n - 1) not in numSet:\n",
    "            length = 1\n",
    "            while (n + length) in numSet:\n",
    "                length += 1\n",
    "            #this loop basically updates longest sequence!\n",
    "            longest = max(length, longest)\n",
    "    return longest\n"
   ]
  },
  {
   "cell_type": "markdown",
   "metadata": {},
   "source": [
    "## Problem: Greatest Common Divisor in strings\n",
    "\n",
    "For two strings s and t, we say \"t divides s\" if and only if s = t + t + t + ... + t + t (i.e., t is concatenated with itself one or more times).\n",
    "\n",
    "Given two strings str1 and str2, return the largest string x such that x divides both str1 and str2.\n",
    "\n",
    "Example 1:\n",
    "\n",
    "Input: str1 = \"ABCABC\", str2 = \"ABC\"\n",
    "Output: \"ABC\"\n",
    "Example 2:\n",
    "\n",
    "Input: str1 = \"ABABAB\", str2 = \"ABAB\"\n",
    "Output: \"AB\"\n",
    "Example 3:\n",
    "\n",
    "Input: str1 = \"LEET\", str2 = \"CODE\"\n",
    "Output: \"\""
   ]
  },
  {
   "cell_type": "code",
   "execution_count": null,
   "metadata": {},
   "outputs": [],
   "source": [
    "#mysol\n",
    "class Solution:\n",
    "    def gcdOfStrings(self, str1: str, str2: str) -> str:\n",
    "        #note that from observation the first unit must contain the index 0. cannot start partially\n",
    "        \n",
    "        def check(s,t):\n",
    "            #lengths match\n",
    "            if len(s)%len(t)==0:\n",
    "                #integer division\n",
    "                if s==t*(len(s)//len(t)):\n",
    "                    return True\n",
    "            return False\n",
    "        #assume this substring ends at index 0\n",
    "        largest=0\n",
    "        \n",
    "        #iterate over the smaller string, checking all possible substrings from the start\n",
    "        #start from the first index which is 1 because it is ending\n",
    "        for i in range(1,min(len(str1),len(str2))+1):\n",
    "            print(str1[:i],str2[:i])\n",
    "            #must be the same, otherwise end up like 'LEET' 'CODE'\n",
    "            if str1[:i]==str2[:i]:\n",
    "                if check(str1,str1[:i]) and check(str2,str2[:i]):\n",
    "                    if i>largest:\n",
    "                        largest=i\n",
    "        \n",
    "        return str1[:largest]\n"
   ]
  },
  {
   "cell_type": "code",
   "execution_count": null,
   "metadata": {},
   "outputs": [],
   "source": [
    "#theirsol\n",
    "from math import gcd\n",
    "class Solution:\n",
    "    def gcdOfStrings(self, str1: str, str2: str) -> str:\n",
    "        #must be composed of repeating subunits\n",
    "        if(str1+str2!=str2+str1):\n",
    "            return \"\"\n",
    "        #holy shit\n",
    "        return str1[:gcd(len(str1),len(str2))]\n",
    "        "
   ]
  },
  {
   "cell_type": "markdown",
   "metadata": {},
   "source": [
    "# Max Average Subarray\n",
    "\n",
    "You are given an integer array nums consisting of n elements, and an integer k.\n",
    "\n",
    "Find a contiguous subarray whose **length is equal to k** that has the maximum average value and return this value. Any answer with a calculation error less than 10-5 will be accepted.\n",
    "\n",
    "```\n",
    "Example 1:\n",
    "\n",
    "Input: nums = [1,12,-5,-6,50,3], k = 4\n",
    "Output: 12.75000\n",
    "Explanation: Maximum average is (12 - 5 - 6 + 50) / 4 = 51 / 4 = 12.75\n",
    "Example 2:\n",
    "\n",
    "Input: nums = [5], k = 1\n",
    "Output: 5.00000\n",
    "```\n",
    "\n",
    "This solution beats 63% of people. Pretty decent!"
   ]
  },
  {
   "cell_type": "code",
   "execution_count": 15,
   "metadata": {},
   "outputs": [],
   "source": [
    "import math\n",
    "def findMaxAverage(nums, k) -> float:\n",
    "    if len(nums)==1:\n",
    "        return nums[0]\n",
    "    \n",
    "\n",
    "    cur_sum=sum(nums[0:k])/k\n",
    "    cur_max=cur_sum\n",
    "\n",
    "    for start in range(1,len(nums)-k+1):\n",
    "        print(\"start\",start,\"cursum before update\",cur_sum)\n",
    "        cur_sum+=nums[start+k-1]/k\n",
    "        cur_sum-=nums[start-1]/k\n",
    "        print(\"start\",start,\"cursum after update\",cur_sum)\n",
    "        if cur_sum>cur_max:\n",
    "            cur_max=cur_sum\n",
    "    \n",
    "    return cur_max"
   ]
  },
  {
   "cell_type": "code",
   "execution_count": 16,
   "metadata": {},
   "outputs": [
    {
     "name": "stdout",
     "output_type": "stream",
     "text": [
      "start 1 cursum before update 1.25\n",
      "start 1 cursum after update 2.0\n",
      "2.0\n"
     ]
    }
   ],
   "source": [
    "print(findMaxAverage([0,1,1,3,3],4))"
   ]
  },
  {
   "cell_type": "markdown",
   "metadata": {},
   "source": [
    "## Can Place Flowers\n",
    "\n",
    "You have a long flowerbed in which some of the plots are planted, and some are not. However, flowers cannot be planted in *adjacent plots*.\n",
    "\n",
    "Given an integer array flowerbed containing `0`'s and `1`'s, where `0` means empty and `1` means not empty, and an integer `n`, return `true` if `n` new flowers can be planted in the flowerbed without violating the no-adjacent-flowers rule and `false` otherwise."
   ]
  },
  {
   "cell_type": "code",
   "execution_count": null,
   "metadata": {},
   "outputs": [],
   "source": [
    "#my shitty solutions with a ton of edge cases\n",
    "class Solution:\n",
    "    def canPlaceFlowers(self, flowerbed: List[int], n: int) -> bool:\n",
    "        #check if n is zero\n",
    "        if n==0:\n",
    "            return True\n",
    "            \n",
    "        remain=n\n",
    "        #empty list\n",
    "        if len(flowerbed)==0:\n",
    "            return False\n",
    "        #one spot only\n",
    "        elif len(flowerbed)==1:\n",
    "            return flowerbed[0]==0 and n==1\n",
    "\n",
    "        #check the first elem:\n",
    "        if flowerbed[0]==0 and flowerbed[1]==0:\n",
    "            flowerbed[0]=1\n",
    "            remain-=1\n",
    "            \n",
    "        #check the last elem\n",
    "        if flowerbed[-1]==0 and flowerbed[-2]==0:\n",
    "            flowerbed[-1]=1\n",
    "            remain-=1\n",
    "\n",
    "        #ignore the first and last elem\n",
    "        for spot in range(1,len(flowerbed)-1):\n",
    "            if flowerbed[spot-1:spot+2]==[0,0,0]:\n",
    "                flowerbed[spot]=1\n",
    "                remain-=1\n",
    "        \n",
    "        if remain>0:\n",
    "            return False\n",
    "        else:\n",
    "            return True"
   ]
  },
  {
   "cell_type": "code",
   "execution_count": null,
   "metadata": {},
   "outputs": [],
   "source": [
    "#theri solution, abit like linked lists but add in dummy nodes at the edges\n",
    "class Solution:\n",
    "    def canPlaceFlowers(self, flowerbed: List[int], n: int) -> bool:\n",
    "        #head\n",
    "        flowerbed.insert(0,0)\n",
    "        #tail\n",
    "        flowerbed.append(0)\n",
    "        #ignore last 2 elems\n",
    "        for i in range(1,len(flowerbed)-1):\n",
    "            if flowerbed[i-1] == flowerbed[i+1] == flowerbed[i] == 0:\n",
    "                #use a unique identifier like 2, can be 3 or anything\n",
    "                flowerbed[i] = 2\n",
    "        flow = flowerbed.count(2)\n",
    "        return flow>=n"
   ]
  }
 ],
 "metadata": {
  "kernelspec": {
   "display_name": "venv",
   "language": "python",
   "name": "python3"
  },
  "language_info": {
   "codemirror_mode": {
    "name": "ipython",
    "version": 3
   },
   "file_extension": ".py",
   "mimetype": "text/x-python",
   "name": "python",
   "nbconvert_exporter": "python",
   "pygments_lexer": "ipython3",
   "version": "3.10.12"
  }
 },
 "nbformat": 4,
 "nbformat_minor": 2
}
