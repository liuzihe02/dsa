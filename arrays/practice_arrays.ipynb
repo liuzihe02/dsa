{
 "cells": [
  {
   "cell_type": "markdown",
   "metadata": {},
   "source": [
    "## Problem: Longest Consecutive Sequence\n",
    "\n",
    "Given an array of integers nums, return the length of the longest consecutive sequence of elements.\n",
    "\n",
    "A consecutive sequence is a sequence of elements in which each element is exactly 1 greater than the previous element.\n",
    "\n",
    "You must write an algorithm that runs in O(n) time."
   ]
  },
  {
   "cell_type": "code",
   "execution_count": 1,
   "metadata": {},
   "outputs": [],
   "source": [
    "from typing import List\n",
    "\n",
    "#my sol, need to deal with alot of edge cases\n",
    "def longestConsecutive(nums) -> int:\n",
    "    #this step is not O(n) oops, this is O(nlogn)\n",
    "    all=sorted(set(nums))\n",
    "    \n",
    "    print(all)\n",
    "    maxlen=1\n",
    "    L=0\n",
    "    for R in range(1,len(all)):\n",
    "        if all[R]!=all[R-1]+1:\n",
    "            print(all[L],all[R])\n",
    "            maxlen=max(maxlen,R-L)\n",
    "            #get the prev longest list\n",
    "            L=R\n",
    "        if R==len(all)-1:\n",
    "            maxlen=max(maxlen,R-L+1)\n",
    "    return maxlen if all else 0"
   ]
  },
  {
   "cell_type": "code",
   "execution_count": 2,
   "metadata": {},
   "outputs": [],
   "source": [
    "#neetcode, quite smart lol\n",
    "def longestConsecutive( nums: List[int]) -> int:\n",
    "    numSet = set(nums)\n",
    "    longest = 0\n",
    "\n",
    "    for n in numSet:\n",
    "        #this for + if loop iterates over /finds all the START of sequences\n",
    "        if (n - 1) not in numSet:\n",
    "            length = 1\n",
    "            while (n + length) in numSet:\n",
    "                length += 1\n",
    "            #this loop basically updates longest sequence!\n",
    "            longest = max(length, longest)\n",
    "    return longest\n"
   ]
  }
 ],
 "metadata": {
  "kernelspec": {
   "display_name": "venv",
   "language": "python",
   "name": "python3"
  },
  "language_info": {
   "codemirror_mode": {
    "name": "ipython",
    "version": 3
   },
   "file_extension": ".py",
   "mimetype": "text/x-python",
   "name": "python",
   "nbconvert_exporter": "python",
   "pygments_lexer": "ipython3",
   "version": "3.10.12"
  }
 },
 "nbformat": 4,
 "nbformat_minor": 2
}
