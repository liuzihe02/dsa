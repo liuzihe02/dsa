{
 "cells": [
  {
   "cell_type": "markdown",
   "metadata": {},
   "source": [
    "# Static Arrays\n",
    "\n",
    "In statically typed languages like Java, C++ and C#, arrays have to have an allocated size and type when initialized. These are known as static arrays.\n",
    "\n",
    "They are called static because the size of the array cannot change once declared. And once the array is full, it can not store additional elements. Dynamically typed languages like JavaScript or Python have dynamic arrays."
   ]
  },
  {
   "cell_type": "markdown",
   "metadata": {},
   "source": [
    "## Reading from an array\n",
    "\n",
    "To read an individual element from an array we can choose the position we want to access via an index. Below we have initialized an array of size 3 called myArray. We also attempt to access an arbitrary element using the index i.\n",
    "\n",
    "```python\n",
    "# initialize myArray\n",
    "myArray = [1,3,5]\n",
    "\n",
    "# access an arbitrary element, where i is the index of the desired value\n",
    "myArray[i]\n",
    "```\n",
    "\n",
    "Accessing a single element in an array is always instant because each index of myArray is mapped to an address in the RAM. Regardless of the size of the input array, the time taken to access a single element is the same. We refer to this operation as $O(1)$ in terms of time complexity (number of operations does not grow as the size of the data/input grows)\n",
    "\n",
    "### Traversing an array\n",
    "```python\n",
    "for i in range(len(myArray)):\n",
    "   print(myArray[i])\n",
    "```\n",
    "To traverse through an array of size n the time complexity is O(n)"
   ]
  },
  {
   "cell_type": "markdown",
   "metadata": {},
   "source": [
    "---\n",
    "\n",
    "## Deleting from an array\n",
    "\n",
    "### Deleting from the end\n",
    "\n",
    "In statically typed languages, all array indices are filled with 0s or some default value upon initialization, denoting an empty array.\n",
    "\n",
    "When we want to remove an element from the last index of an array, setting its value to 0 / null or -1 is the best we can do. This is known as a soft delete. The element is not being \"deleted\" per se, but it is being overwritten by a value that denotes an empty index."
   ]
  },
  {
   "cell_type": "code",
   "execution_count": null,
   "metadata": {},
   "outputs": [],
   "source": [
    "# Remove from the last position in the array if the array\n",
    "# is not empty (i.e. length is non-zero).\n",
    "def removeEnd(arr, length):\n",
    "    if length > 0:\n",
    "        # Overwrite last element with some default value.\n",
    "        # We would also consider the length to be decreased by 1.\n",
    "        arr[length - 1] = 0"
   ]
  },
  {
   "cell_type": "markdown",
   "metadata": {},
   "source": [
    "##"
   ]
  }
 ],
 "metadata": {
  "kernelspec": {
   "display_name": "venv",
   "language": "python",
   "name": "python3"
  },
  "language_info": {
   "name": "python",
   "version": "3.10.12"
  }
 },
 "nbformat": 4,
 "nbformat_minor": 2
}
