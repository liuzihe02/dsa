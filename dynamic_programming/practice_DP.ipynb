{
 "cells": [
  {
   "cell_type": "markdown",
   "metadata": {},
   "source": [
    "## Problem: Longest Common Subsequence\n",
    "\n",
    "Given two strings `text1` and `text2`, return the length of the longest common subsequence between the two strings if one exists, otherwise return `0`.\n",
    "\n",
    "A subsequence is a sequence that can be derived from the given sequence by *deleting some or no elements without changing the relative order* of the remaining characters.\n",
    "\n",
    "For example, \"cat\" is a subsequence of \"crabt\".\n",
    "A common subsequence of two strings is a subsequence that exists in both strings."
   ]
  },
  {
   "cell_type": "code",
   "execution_count": null,
   "metadata": {},
   "outputs": [],
   "source": [
    "#mysol\n",
    "class Solution:\n",
    "    def longestCommonSubsequence(self, text1: str, text2: str) -> int:\n",
    "        #this is basically find the length of longest possible path\n",
    "        n,m=len(text1),len(text2)\n",
    "        cache={}\n",
    "\n",
    "        def dfs(i,j):\n",
    "            #base case, reach bottom right node\n",
    "            if i >= n-1 and j >= m-1:\n",
    "                print(i,j)\n",
    "                return 1 if text1[i]==text2[j] else 0\n",
    "\n",
    "            if (i,j) in cache:\n",
    "                return cache[(i,j)]\n",
    "\n",
    "            res=0\n",
    "\n",
    "            if text1[i]==text2[j]:\n",
    "                res+=1\n",
    "                #still can go down AND right\n",
    "                if i<n-1 and j<m-1:\n",
    "                    #go diagonally\n",
    "                    res+=dfs(i+1,j+1)\n",
    "\n",
    "            else:\n",
    "                # can go down AND right\n",
    "                if i<n-1 and j<m-1:\n",
    "                    res+=max(\n",
    "                    dfs(i+1,j),\n",
    "                    dfs(i,j+1)\n",
    "                    )\n",
    "                #only can go down\n",
    "                elif i<n-1:\n",
    "                    res+=dfs(i+1,j)\n",
    "                #only can go right\n",
    "                elif j<m-1:\n",
    "                    res+=dfs(i,j+1)\n",
    "            \n",
    "            cache[(i,j)]=res\n",
    "            return res\n",
    "        \n",
    "        return dfs(0,0)"
   ]
  },
  {
   "cell_type": "markdown",
   "metadata": {},
   "source": [
    "Explanation"
   ]
  },
  {
   "cell_type": "markdown",
   "metadata": {},
   "source": [
    "1. Naive Recursion\n",
    "Go left is to remove elem from left word, go right is to remove elem from right word\n",
    "```\n",
    "                            lcs(\"AXYT\", \"AYZX\")\n",
    "                           /              \\\n",
    "             lcs(\"AXY\", \"AYZX\")            lcs(\"AXYT\", \"AYZ\")\n",
    "             /        \\                      /              \\ \n",
    "    lcs(\"AX\", \"AYZX\") lcs(\"AXY\", \"AYZ\")   lcs(\"AXY\", \"AYZ\") lcs(\"AXYT\", \"AY\")\n",
    "```"
   ]
  },
  {
   "cell_type": "code",
   "execution_count": null,
   "metadata": {},
   "outputs": [],
   "source": [
    "class Solution:\n",
    "    def longestCommonSubsequence(self, s1: str, s2: str) -> int:\n",
    "        return self.helper(s1, s2, 0, 0)\n",
    "        \n",
    "    def helper(self, s1, s2, i, j):\n",
    "        #reach teh end\n",
    "        if i == len(s1) or j == len(s2):\n",
    "            return 0\n",
    "        if s1[i] == s2[j]:\n",
    "            #go \"diagonally\"\n",
    "            return 1 + self.helper(s1, s2, i + 1, j + 1)\n",
    "        else:\n",
    "            #keep moving either one forward\n",
    "            return max(self.helper(s1, s2, i+1, j), self.helper(s1, s2, i, j + 1))"
   ]
  },
  {
   "cell_type": "markdown",
   "metadata": {},
   "source": [
    "Top Down DP (with memoization)\n",
    "\n",
    "- they used **padding** here on the matrix to make the solution simpler, very interesting!\n",
    "- so technically the resultant grid is a little larger than the given grid"
   ]
  },
  {
   "cell_type": "code",
   "execution_count": null,
   "metadata": {},
   "outputs": [],
   "source": [
    "class Solution:\n",
    "    def longestCommonSubsequence(self, s1: str, s2: str) -> int:\n",
    "        m = len(s1)\n",
    "        n = len(s2)\n",
    "        #this is a grid of -1\n",
    "        #this grid will be PADDED WITH ZEROS at the bottom and at the right\n",
    "        #so this grid is of shape [len(s1)+1,len(s2)+1]\n",
    "        memo = [[-1 for _ in range(n + 1)] for _ in range(m + 1)]\n",
    "        return self.helper(s1, s2, 0, 0, memo)\n",
    "\n",
    "    def helper(self, s1, s2, i, j, memo):\n",
    "        #if undiscovered\n",
    "        if memo[i][j] < 0:\n",
    "            #if reached past the boundary\n",
    "            #padding occurs!\n",
    "            if i == len(s1) or j == len(s2):\n",
    "                memo[i][j] = 0\n",
    "            elif s1[i] == s2[j]:\n",
    "                #go diagonally\n",
    "                memo[i][j] = 1 + self.helper(s1, s2, i + 1, j + 1, memo)\n",
    "            else:\n",
    "                #go left or right\n",
    "                memo[i][j] = max(\n",
    "                    self.helper(s1, s2, i + 1, j, memo),\n",
    "                    self.helper(s1, s2, i, j + 1, memo),\n",
    "                )\n",
    "        return memo[i][j]"
   ]
  },
  {
   "cell_type": "markdown",
   "metadata": {},
   "source": [
    "Bottom Up DP"
   ]
  },
  {
   "cell_type": "code",
   "execution_count": null,
   "metadata": {},
   "outputs": [],
   "source": [
    "class Solution:\n",
    "    def longestCommonSubsequence(self, text1: str, text2: str) -> int:\n",
    "        #create a grid of zeroes, of size len(text1),len(text2)\n",
    "        #add extra padding!\n",
    "        dp = [[0 for j in range(len(text2) + 1)] for i in range(len(text1) + 1)]\n",
    "\n",
    "        #from bottom row up till 0 row\n",
    "        # note that row[len(text)] is all filled with zeroes!\n",
    "        for i in range(len(text1) - 1, -1, -1):\n",
    "            #from rightmost column\n",
    "            for j in range(len(text2) - 1, -1, -1):\n",
    "                if text1[i] == text2[j]:\n",
    "                    #this is genius bruhhhh\n",
    "                    dp[i][j] = 1 + dp[i + 1][j + 1]\n",
    "                else:\n",
    "                    #get the max of right and bottom val\n",
    "                    dp[i][j] = max(dp[i][j + 1], dp[i + 1][j])\n",
    "\n",
    "        return dp[0][0]\n"
   ]
  }
 ],
 "metadata": {
  "kernelspec": {
   "display_name": "venv",
   "language": "python",
   "name": "python3"
  },
  "language_info": {
   "codemirror_mode": {
    "name": "ipython",
    "version": 3
   },
   "file_extension": ".py",
   "mimetype": "text/x-python",
   "name": "python",
   "nbconvert_exporter": "python",
   "pygments_lexer": "ipython3",
   "version": "3.10.12"
  }
 },
 "nbformat": 4,
 "nbformat_minor": 2
}
