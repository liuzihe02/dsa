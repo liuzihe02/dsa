{
 "cells": [
  {
   "cell_type": "markdown",
   "metadata": {},
   "source": [
    "## Problem: K-largest elements\n",
    "\n",
    "return the 'kth' largest value in a list of integers. This is including **duplicates**, so basically first remove all duplicates then do the k-th largest."
   ]
  },
  {
   "cell_type": "code",
   "execution_count": 4,
   "metadata": {},
   "outputs": [],
   "source": [
    "import heapq\n",
    "from typing import List\n",
    "class KthLargest:\n",
    "    \n",
    "    def __init__(self, k: int, nums: List[int]):\n",
    "        self.minHeap, self.k = nums, k\n",
    "        #this modifies in-place\n",
    "        heapq.heapify(self.minHeap)\n",
    "        while len(self.minHeap) > k:\n",
    "            #only keep the k largest elems\n",
    "            heapq.heappop(self.minHeap)\n",
    "\n",
    "    def add(self, val: int) -> int:\n",
    "        heapq.heappush(self.minHeap, val)\n",
    "        if len(self.minHeap) > self.k:\n",
    "            heapq.heappop(self.minHeap)\n",
    "        return self.minHeap[0]\n"
   ]
  },
  {
   "cell_type": "markdown",
   "metadata": {},
   "source": [
    "## Problem: K-largest elements\n",
    "\n",
    "return the 'kth' largest value in a list of integers. This is assuming each element is **distinct**."
   ]
  },
  {
   "cell_type": "code",
   "execution_count": 14,
   "metadata": {},
   "outputs": [],
   "source": [
    "#my sol uses a counter\n",
    "from collections import Counter\n",
    "def DistinctKthLargest(nums,k):\n",
    "    #make a heap that stores the number of duplicates too\n",
    "    counter=Counter(nums)\n",
    "    #store the negatives of elems for MaxHeap\n",
    "    tuples=[(-elem, count) for elem, count in counter.items()]\n",
    "    heapq.heapify(tuples)\n",
    "\n",
    "    res=[]\n",
    "    #remove the top k-1 elems\n",
    "    for i in range(k-1):\n",
    "        #check if theres duplicates or not\n",
    "        top=heapq.heappop(tuples)\n",
    "        if top[1]>1:\n",
    "            #add back with one less\n",
    "            heapq.heappush(tuples,(top[0],top[1]-1))\n",
    "        #if only one elem, can just pop out\n",
    "    return -heapq.heappop(tuples)[0]\n",
    "        "
   ]
  },
  {
   "cell_type": "markdown",
   "metadata": {},
   "source": [
    "### Quickselect\n",
    "\n",
    "The actual solution is using *quickselect*, a selection algo to find the kth smallest elem in an unordered list. This is $O(n^2)$ in worst case, $O(n)$ on average.\n",
    "\n",
    "This is very similar to quicksort."
   ]
  },
  {
   "cell_type": "code",
   "execution_count": null,
   "metadata": {},
   "outputs": [],
   "source": [
    "# Quick Select\n",
    "# Time complexity: O(n) in average, O(n^2) in worst case\n",
    "class Solution:\n",
    "\n",
    "    def findKthLargest(self, nums: List[int], k: int) -> int:\n",
    "        #this is the target/proper index we're looking for, where the elem at this position is the right one in a sorted array\n",
    "        k = len(nums) - k\n",
    "        #left and right represent the bounds of the subarray\n",
    "        left, right = 0, len(nums) - 1\n",
    "\n",
    "        #while the subarray has at least length one\n",
    "        while left < right:\n",
    "            #index of pivot, will also modify nums in-place\n",
    "            pivot = self.partition(nums, left, right)\n",
    "\n",
    "            #we need to partion the right section\n",
    "            if pivot < k:\n",
    "                left = pivot + 1\n",
    "            #we need to partition the left section\n",
    "            elif pivot > k:\n",
    "                right = pivot - 1\n",
    "            #pivot has reached the correct position\n",
    "            else:\n",
    "                break\n",
    "\n",
    "        return nums[k]\n",
    "\n",
    "    def partition(self, nums: List[int], left: int, right: int) -> int:\n",
    "        #pivot is the value of the last elem in this subarray, fill is the slow pointer\n",
    "        pivot, fill = nums[right], left\n",
    "        #i is the fast pointer\n",
    "        for i in range(left, right):\n",
    "            if nums[i] <= pivot:\n",
    "                #swap nums[i],nums[fill] and increment fill/slow pointer\n",
    "                nums[fill], nums[i] = nums[i], nums[fill]\n",
    "                fill += 1\n",
    "\n",
    "        #swap the pivot with the position of the fill/slow pointer\n",
    "        nums[fill], nums[right] = nums[right], nums[fill]\n",
    "\n",
    "        #this returns the index of pivot, where this position contains the correct elem for this complete array\n",
    "        return fill\n"
   ]
  },
  {
   "cell_type": "code",
   "execution_count": 15,
   "metadata": {},
   "outputs": [
    {
     "name": "stdout",
     "output_type": "stream",
     "text": [
      "4\n"
     ]
    }
   ],
   "source": [
    "print(DistinctKthLargest([2,3,1,5,4],2))"
   ]
  },
  {
   "cell_type": "code",
   "execution_count": 16,
   "metadata": {},
   "outputs": [
    {
     "name": "stdout",
     "output_type": "stream",
     "text": [
      "4\n"
     ]
    }
   ],
   "source": [
    "print(DistinctKthLargest([2,3,1,1,5,5,4],3))"
   ]
  }
 ],
 "metadata": {
  "kernelspec": {
   "display_name": "venv",
   "language": "python",
   "name": "python3"
  },
  "language_info": {
   "codemirror_mode": {
    "name": "ipython",
    "version": 3
   },
   "file_extension": ".py",
   "mimetype": "text/x-python",
   "name": "python",
   "nbconvert_exporter": "python",
   "pygments_lexer": "ipython3",
   "version": "3.10.12"
  }
 },
 "nbformat": 4,
 "nbformat_minor": 2
}
