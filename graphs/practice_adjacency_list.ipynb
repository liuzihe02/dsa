{
 "cells": [
  {
   "cell_type": "markdown",
   "metadata": {},
   "source": [
    "## Problem: Course Schedule\n",
    "\n",
    "You are given an array `prerequisites` where `prerequisites[i] = [a, b]` indicates that you must take course b first if you want to take course `a`.\n",
    "\n",
    "The pair `[0, 1]`, indicates that must take course `1` before taking course `0`.\n",
    "\n",
    "There are a total of `numCourses` courses you are required to take, labeled from `0` to `numCourses - 1`.\n",
    "\n",
    "Return `true` if it is possible to finish all courses, otherwise return `false`.\n",
    "\n",
    "### Hint:\n",
    "\n",
    "We first build a graph of nodes (courses), where a node from A to B means A is the course and B is the prerequisite for A. The **ONLY** problem where you cannot finish all the courses, when a at least one cycle exists.\n",
    "\n",
    "Check whether a cycle exists, on every course"
   ]
  },
  {
   "cell_type": "code",
   "execution_count": null,
   "metadata": {},
   "outputs": [],
   "source": [
    "# my sol\n",
    "class Solution:\n",
    "    def canFinish(self, numCourses: int, prerequisites: List[List[int]]) -> bool:\n",
    "        # build the adj list\n",
    "        adj = {i: [] for i in range(numCourses)}\n",
    "        for curr, pre in prerequisites:\n",
    "            adj[curr] = adj[curr] + [pre]\n",
    "\n",
    "        print(\"adjlist is\", adj)\n",
    "\n",
    "        # visit is a list\n",
    "        def dfs(node, visit):\n",
    "            \"\"\"this will return False if a cycle is found\"\"\"\n",
    "            if node in visit:\n",
    "                print(\"a cycle is found at\", node)\n",
    "                return False\n",
    "\n",
    "            visit.add(node)\n",
    "\n",
    "            print(\"current node is\", node, \"visit is\", visit)\n",
    "\n",
    "            for nb in adj[node]:\n",
    "                if not dfs(nb, visit):\n",
    "                    return False\n",
    "            # must remove here\n",
    "            visit.remove(node)\n",
    "            print(\"returning true/no cycle for\", node, \"visit is\", visit)\n",
    "\n",
    "            return True\n",
    "\n",
    "        # check every node as a source\n",
    "        # this is because the loops/networks can be disconnected\n",
    "        for src in range(numCourses):\n",
    "            if not dfs(src, set()):\n",
    "                return False\n",
    "\n",
    "        return True"
   ]
  },
  {
   "cell_type": "code",
   "execution_count": null,
   "metadata": {},
   "outputs": [],
   "source": [
    "# their sol - memoization way more efficient\n",
    "class Solution:\n",
    "    def canFinish(numCourses, prerequisites):\n",
    "        # this is the adj list\n",
    "        preMap = {i: [] for i in range(numCourses)}\n",
    "        for crs, pre in prerequisites:\n",
    "            preMap[crs].append(pre)\n",
    "\n",
    "        visiting = set()\n",
    "\n",
    "        # uses a global visiting set across all DFS calls\n",
    "        def dfs(crs):\n",
    "            # a loop is found\n",
    "            if crs in visiting:\n",
    "                return False\n",
    "            # reached the end, THIS COURSE CAN BE COMPLETED\n",
    "            if preMap[crs] == []:\n",
    "                return True\n",
    "\n",
    "            # add this to history\n",
    "            visiting.add(crs)\n",
    "            for pre in preMap[crs]:\n",
    "                if not dfs(pre):\n",
    "                    return False\n",
    "            # backtracking to allow further exploration\n",
    "            visiting.remove(crs)\n",
    "            # this is a form a memoization\n",
    "            # this course can be completed, just make it zero prereqs! - signals no cycle starting from this node\n",
    "            preMap[crs] = []\n",
    "            return True\n",
    "\n",
    "        for c in range(numCourses):\n",
    "            if not dfs(c):\n",
    "                return False\n",
    "        return True\n"
   ]
  },
  {
   "cell_type": "code",
   "execution_count": null,
   "metadata": {},
   "outputs": [],
   "source": [
    "# even faster\n",
    "class Solution:\n",
    "    def canFinish(self, numCourses: int, prerequisites: List[List[int]]) -> bool:\n",
    "        # check whether this course can be taken\n",
    "        def check(course):\n",
    "            if course in taken:\n",
    "                return True\n",
    "            # this is reset every source node\n",
    "            # this is basically the visit hashset\n",
    "            if course in current_path:\n",
    "                return False\n",
    "            current_path.add(course)\n",
    "            for pre in relation[course]:\n",
    "                if not check(pre):\n",
    "                    return False\n",
    "            taken.add(course)\n",
    "            return True\n",
    "\n",
    "        relation = {i: [] for i in range(numCourses)}\n",
    "        # graph relationship\n",
    "        for course1, course2 in prerequisites:\n",
    "            relation[course1].append(course2)\n",
    "\n",
    "        # courses which CAN DEFINITELY BE TAKEN\n",
    "        taken = set()\n",
    "        for course in range(numCourses):\n",
    "            current_path = set()\n",
    "            if not check(course):\n",
    "                return False\n",
    "        return True\n"
   ]
  },
  {
   "attachments": {
    "image-2.png": {
     "image/png": "[encoded data removed]"
    }
   },
   "cell_type": "markdown",
   "metadata": {},
   "source": [
    "## Problem: Find the Maximum Value in a graph\n",
    "\n",
    "\n",
    "We represent our graph as an adjacency list where `parent_name:[value,[child1_name,child2_name...]]`. Note that the below graph contains a cycle, and we use `visited` to prevent infinite traversal.\n",
    "\n",
    "![image-2.png](attachment:image-2.png)"
   ]
  },
  {
   "cell_type": "code",
   "execution_count": null,
   "metadata": {},
   "outputs": [],
   "source": [
    "graph2 = {\n",
    "    \"root\": [13, [\"A\", \"B\"]],\n",
    "    \"A\": [77, [\"B\", \"C\"]],\n",
    "    \"B\": [88, []],\n",
    "    \"C\": [-32, [\"D\"]],\n",
    "    \"D\": [42, [\"A\"]],\n",
    "}  # D --> A"
   ]
  },
  {
   "cell_type": "code",
   "execution_count": null,
   "metadata": {},
   "outputs": [],
   "source": [
    "def graph_max(graph):\n",
    "    \"\"\"Walk a graph, returning the maximum value in a (non-empty) graph.\n",
    "    However, there might be cycles, so need to be careful not to\n",
    "    get stuck in them!\n",
    "    \"\"\"\n",
    "\n",
    "    visited = set()\n",
    "\n",
    "    def node_max(node_name):\n",
    "        visited.add(node_name)\n",
    "        val = graph[node_name][0]\n",
    "        children = graph[node_name][1]\n",
    "        # explore all unvisited nodes in a BFS way\n",
    "        new_children = [c for c in children if c not in visited]\n",
    "        # as long as theres one child\n",
    "        if new_children:\n",
    "            return max(val, max(node_max(child) for child in new_children))\n",
    "        return val\n",
    "\n",
    "    return node_max(\"root\")"
   ]
  },
  {
   "cell_type": "code",
   "execution_count": 3,
   "metadata": {},
   "outputs": [
    {
     "data": {
      "text/plain": [
       "88"
      ]
     },
     "execution_count": 3,
     "metadata": {},
     "output_type": "execute_result"
    }
   ],
   "source": [
    "graph_max(graph2)"
   ]
  },
  {
   "cell_type": "markdown",
   "metadata": {},
   "source": [
    "## Keys and Rooms\n",
    "\n",
    "There are n rooms labeled from `0` to `n - 1` and all the rooms are locked except for room `0`. Your goal is to visit all the rooms. However, you cannot enter a locked room without having its key.\n",
    "\n",
    "When you visit a room, you may find a set of distinct keys in it. Each key has a number on it, denoting which room it unlocks, and you can take all of them with you to unlock the other rooms.\n",
    "\n",
    "Given an array rooms where `rooms[i]` is the set of keys that you can obtain if you visited room `i`, return true if you can visit all the rooms, or false otherwise."
   ]
  },
  {
   "cell_type": "code",
   "execution_count": null,
   "metadata": {},
   "outputs": [],
   "source": [
    "# this edits the visited set in place\n",
    "class Solution:\n",
    "    def canVisitAllRooms(self, rooms: List[List[int]]):\n",
    "        visited = set()\n",
    "        # this is passing in global variables\n",
    "        self.traversal(rooms, 0, visited)\n",
    "        if len(visited) == len(rooms):\n",
    "            return True\n",
    "        else:\n",
    "            return False\n",
    "\n",
    "    def traversal(self, rooms, current_room, visited):\n",
    "        # print(\"currently at room\",current_room)\n",
    "        visited.add(current_room)\n",
    "\n",
    "        for child_room in rooms[current_room]:\n",
    "            # only explore if not visited\n",
    "            if child_room not in visited:\n",
    "                # print(\"going to this room\",child_room)\n",
    "                self.traversal(rooms, child_room, visited)\n"
   ]
  },
  {
   "cell_type": "markdown",
   "metadata": {},
   "source": [
    "## Leaf Similar Trees (Easy)\n",
    "\n",
    "Traverse all the leafs of a tree, from left to right\n",
    "\n",
    "Consider all the leaves of a binary tree, from left to right order, the values of those leaves form a leaf value sequence.\n",
    "\n",
    "Two binary trees are considered leaf-similar if their leaf value sequence is the same.\n",
    "\n",
    "Return true if and only if the two given trees with head nodes root1 and root2 are leaf-similar."
   ]
  },
  {
   "cell_type": "code",
   "execution_count": null,
   "metadata": {},
   "outputs": [],
   "source": [
    "# my code\n",
    "class Solution:\n",
    "    def leafSimilar(self, root1: Optional[TreeNode], root2: Optional[TreeNode]) -> bool:\n",
    "        def traverse(node):\n",
    "            # we want postorder traversal\n",
    "            # base case leaf node\n",
    "            if node.left == None and node.right == None:\n",
    "                return [node.val]\n",
    "\n",
    "            # right has a node\n",
    "            elif node.left == None:\n",
    "                visited = traverse(node.right)\n",
    "\n",
    "            # left has a node\n",
    "            elif node.right == None:\n",
    "                visited = traverse(node.left)\n",
    "\n",
    "            # both have nodes\n",
    "            else:\n",
    "                visited = traverse(node.left) + traverse(node.right)\n",
    "\n",
    "            return visited\n",
    "\n",
    "        return traverse(root1) == traverse(root2)"
   ]
  },
  {
   "cell_type": "code",
   "execution_count": null,
   "metadata": {},
   "outputs": [],
   "source": [
    "# better sol\n",
    "# Definition for a binary tree node.\n",
    "# class TreeNode:\n",
    "#     def __init__(self, val=0, left=None, right=None):\n",
    "#         self.val = val\n",
    "#         self.left = left\n",
    "#         self.right = right\n",
    "class Solution:\n",
    "    def leafSimilar(self, root1: Optional[TreeNode], root2: Optional[TreeNode]) -> bool:\n",
    "        def getLeaves(root) -> list:\n",
    "            # if we've reached an empty node\n",
    "            # THIS IS A VERY USEFUL TECHNIQUE THAT EVADES ALOT OF EDGE CASES!\n",
    "            if not root:\n",
    "                return []\n",
    "            # reached a leaf node\n",
    "            if not root.left and not root.right:\n",
    "                return [root.val]\n",
    "            # concat the sequence from left and the sequence from right\n",
    "            return getLeaves(root.left) + getLeaves(root.right)\n",
    "\n",
    "        leaves1 = getLeaves(root1)\n",
    "        leaves2 = getLeaves(root2)\n",
    "\n",
    "        return leaves1 == leaves2"
   ]
  }
 ],
 "metadata": {
  "kernelspec": {
   "display_name": "venv",
   "language": "python",
   "name": "python3"
  },
  "language_info": {
   "codemirror_mode": {
    "name": "ipython",
    "version": 3
   },
   "file_extension": ".py",
   "mimetype": "text/x-python",
   "name": "python",
   "nbconvert_exporter": "python",
   "pygments_lexer": "ipython3",
   "version": "3.10.12"
  }
 },
 "nbformat": 4,
 "nbformat_minor": 2
}
