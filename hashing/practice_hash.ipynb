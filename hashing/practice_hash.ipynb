{
 "cells": [
  {
   "cell_type": "markdown",
   "metadata": {},
   "source": [
    "## Common Problem\n",
    "\n",
    "Get the key of the dict corresponding to the largest item. or, get the largest item in a dict"
   ]
  },
  {
   "cell_type": "code",
   "execution_count": null,
   "metadata": {},
   "outputs": [],
   "source": [
    "d = {'a': [1,2,3], 'b': [4,5], 'c': [1]}\n",
    "\n",
    "# Key with longest list\n",
    "max(d, key=lambda k: len(d[k]))  # Returns 'a'\n",
    "\n",
    "# Dictionary comprehension - get all keys with values > 15\n",
    "keys = [k for k,v in d.items() if v > 15]  # Returns ['b', 'd']"
   ]
  },
  {
   "cell_type": "markdown",
   "metadata": {},
   "source": [
    "## Two Sum\n",
    "\n",
    "Given an array of integers nums and an integer target, return the indices `i` and `j `such that `nums[i] + nums[j] == target` and `i != j.`\n",
    "\n",
    "You may assume that every input has exactly one pair of indices `i` and `j` that satisfy the condition.\n",
    "\n",
    "Return the answer with the smaller index *first*."
   ]
  },
  {
   "cell_type": "code",
   "execution_count": null,
   "metadata": {},
   "outputs": [],
   "source": [
    "class Solution:\n",
    "    def twoSum(self, nums: List[int], target: int) -> List[int]:\n",
    "        prevMap = {}  # val -> index\n",
    "\n",
    "        for i, n in enumerate(nums):\n",
    "            diff = target - n\n",
    "            if diff in prevMap:\n",
    "                return [prevMap[diff], i]\n",
    "            #store the index of the previous number\n",
    "            prevMap[n] = i"
   ]
  },
  {
   "cell_type": "markdown",
   "metadata": {},
   "source": [
    "## Three Sum"
   ]
  },
  {
   "cell_type": "code",
   "execution_count": null,
   "metadata": {},
   "outputs": [],
   "source": [
    "class Solution:\n",
    "    def threeSum(self, nums: List[int]) -> List[List[int]]:\n",
    "        nums.sort()\n",
    "        count = defaultdict(int)\n",
    "        for num in nums:\n",
    "            count[num] += 1\n",
    "\n",
    "        res = []\n",
    "        for i in range(len(nums)):\n",
    "            count[nums[i]] -= 1\n",
    "            if i and nums[i] == nums[i - 1]:\n",
    "                continue\n",
    "                \n",
    "            for j in range(i + 1, len(nums)):\n",
    "                count[nums[j]] -= 1\n",
    "                if j - 1 > i and nums[j] == nums[j - 1]:\n",
    "                    continue\n",
    "                target = -(nums[i] + nums[j])\n",
    "                if count[target] > 0:\n",
    "                    res.append([nums[i], nums[j], target])\n",
    "\n",
    "            for j in range(i + 1, len(nums)):\n",
    "                count[nums[j]] += 1\n",
    "        return res"
   ]
  }
 ],
 "metadata": {
  "kernelspec": {
   "display_name": "venv",
   "language": "python",
   "name": "python3"
  },
  "language_info": {
   "name": "python",
   "version": "3.10.12"
  }
 },
 "nbformat": 4,
 "nbformat_minor": 2
}
