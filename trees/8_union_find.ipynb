{
 "cells": [
  {
   "cell_type": "markdown",
   "metadata": {},
   "source": [
    "# Union Find (Disjoint Sets)\n",
    "\n",
    "Union-find is used for tracking which nodes are connected in a graph, and which are separate. It can also be used for cycle detection.\n",
    "\n",
    "> We can do this using DFS/hashset, but this is only efficient for static graphs. If we add edges overtime, this is a dynamic graph where union-find is more efficient.\n",
    "\n",
    "## Disjoint Sets\n",
    "\n",
    "Disjoint sets are sets which don't have elements in common. Union-Find creates a disjoint set data structure, from a graph of nodes and edges.\n",
    "\n",
    "- Merging disjoint sets to a single disjoint set using Union operation.\n",
    "- Finding representative (parent) of a disjoint set using Find operation.\n",
    "\n",
    "## Concept\n",
    "\n",
    "\n"
   ]
  }
 ],
 "metadata": {
  "language_info": {
   "name": "python"
  }
 },
 "nbformat": 4,
 "nbformat_minor": 2
}
