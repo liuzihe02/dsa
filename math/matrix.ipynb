{
 "cells": [
  {
   "cell_type": "markdown",
   "metadata": {},
   "source": [
    "# Matrix\n",
    "\n",
    "## Corner Cases\n",
    "\n",
    "- Empty matrix\n",
    "- 1x1 matrix\n",
    "- matrix with only 1 row/column\n",
    "\n",
    "## Techniques\n",
    "\n",
    "#### Creating a N x M matrix\n",
    "\n",
    "Creating an empty matrix\n",
    "\n",
    "```python\n",
    "# Assumes that the matrix is non-empty\n",
    "zero_matrix = [[0 for _ in range(len(matrix[0]))] for _ in range(len(matrix))]\n",
    "```\n",
    "\n",
    "Copying matrix:\n",
    "\n",
    "```python\n",
    "copied_matrix = [row[:] for row in matrix]\n",
    "# Convert the transposed result to a list of lists\n",
    "transposed_matrix = [list(row) for row in transposed_matrix]\n",
    "```\n",
    "\n",
    "#### Transposing a matrix\n",
    "\n",
    "```python\n",
    "transposed_matrix = zip(*matrix)\n",
    "```"
   ]
  },
  {
   "attachments": {
    "image.png": {
     "image/png": "[encoded data removed]"
    }
   },
   "cell_type": "markdown",
   "metadata": {},
   "source": [
    "## Problem: Spiral Matrix\n",
    "\n",
    "Given an m x n matrix, return all elements of the matrix in spiral order.\n",
    "\n",
    "![image.png](attachment:image.png)"
   ]
  },
  {
   "cell_type": "code",
   "execution_count": 2,
   "metadata": {},
   "outputs": [],
   "source": [
    "#my sol\n",
    "from typing import List\n",
    "import numpy as np\n",
    "class Solution:\n",
    "    def spiralOrder(self, matrix: List[List[int]]) -> List[int]:\n",
    "        l=[]\n",
    "        matrix=np.array(matrix)\n",
    "\n",
    "        while True:\n",
    "            #remove top\n",
    "            l=l+list(matrix[0,:])\n",
    "            matrix=matrix[1:,:]\n",
    "            print('top',matrix)\n",
    "            if matrix.size==0:\n",
    "                return l\n",
    "\n",
    "            #remove right\n",
    "            l=l+list(matrix[:,-1])\n",
    "            matrix=matrix[:,:-1]\n",
    "            print('right',matrix)\n",
    "            if matrix.size==0:\n",
    "                return l\n",
    "\n",
    "            #remove bottom, and need to reverse this\n",
    "            l=l+list(matrix[-1,:])[::-1]\n",
    "            matrix=matrix[:-1,:]\n",
    "            print('bottom',matrix)\n",
    "            if matrix.size==0:\n",
    "                return l\n",
    "\n",
    "            #remove left and need to reverse this\n",
    "            l=l+list(matrix[:,0])[::-1]\n",
    "            matrix=matrix[:,1:]\n",
    "            print('left',matrix)\n",
    "            if matrix.size==0:\n",
    "                return l"
   ]
  },
  {
   "cell_type": "code",
   "execution_count": null,
   "metadata": {},
   "outputs": [],
   "source": [
    "#their sol\n",
    "def spiralOrder(matrix: List[List[int]]) -> List[int]:\n",
    "    result = []\n",
    "    while matrix:\n",
    "        #removes and returns the first row of the matrix\n",
    "        result += matrix.pop(0)\n",
    "        #rotates the matrix anti-clockwise by 90 deg, thats actually genius\n",
    "        #zip(*matrix) transposes the matrix:\n",
    "        #[::-1] reverses the order of these ROWS:\n",
    "        matrix = (list(zip(*matrix)))[::-1]\n",
    "    return result"
   ]
  }
 ],
 "metadata": {
  "kernelspec": {
   "display_name": "venv",
   "language": "python",
   "name": "python3"
  },
  "language_info": {
   "codemirror_mode": {
    "name": "ipython",
    "version": 3
   },
   "file_extension": ".py",
   "mimetype": "text/x-python",
   "name": "python",
   "nbconvert_exporter": "python",
   "pygments_lexer": "ipython3",
   "version": "3.10.12"
  }
 },
 "nbformat": 4,
 "nbformat_minor": 2
}
