{
 "cells": [
  {
   "cell_type": "markdown",
   "metadata": {},
   "source": [
    "# Collection of interesting Leetcode 'Math Problems'"
   ]
  },
  {
   "cell_type": "markdown",
   "metadata": {},
   "source": [
    "## Problem: Add One to List representation of integer\\\n",
    "\n",
    "https://leetcode.com/problems/plus-one/description/?envType=study-plan-v2&envId=top-interview-150"
   ]
  },
  {
   "cell_type": "code",
   "execution_count": 5,
   "metadata": {},
   "outputs": [],
   "source": [
    "from typing import List\n",
    "#their sol\n",
    "def plusOne(digits: List[int]) -> List[int]:\n",
    "    for i in range(len(digits)-1, -1, -1):\n",
    "        if digits[i] == 9:\n",
    "            digits[i] = 0\n",
    "        else:\n",
    "            digits[i] += 1\n",
    "            return digits\n",
    "    \n",
    "    return [1] + digits\n",
    "        "
   ]
  },
  {
   "cell_type": "code",
   "execution_count": 6,
   "metadata": {},
   "outputs": [],
   "source": [
    "#my sol very similar\n",
    "from collections import deque\n",
    "def plusOne(digits: List[int]) -> List[int]:\n",
    "    digits=deque(digits)\n",
    "    idx=len(digits)-1\n",
    "\n",
    "    while idx>=0:\n",
    "        if digits[idx]<9:\n",
    "            digits[idx]+=1\n",
    "            return digits\n",
    "        else:\n",
    "            digits[idx]=0\n",
    "            idx-=1\n",
    "\n",
    "    #implement carry for first bit\n",
    "    digits.appendleft(1)\n",
    "    return digits"
   ]
  },
  {
   "cell_type": "markdown",
   "metadata": {},
   "source": [
    "## Problem: Overallaping Rectangles\n",
    "\n",
    "An axis-aligned rectangle is represented as a list `[x1, y1, x2, y2]`, where (x1, y1) is the coordinate of its bottom-left corner, and (x2, y2) is the coordinate of its top-right corner. Its top and bottom edges are parallel to the X-axis, and its left and right edges are parallel to the Y-axis.\n",
    "\n",
    "Two rectangles overlap if the area of their intersection is positive. To be clear, two rectangles that only touch at the corner or edges do not overlap.\n",
    "\n",
    "Given two axis-aligned rectangles rec1 and rec2, return true if they overlap, otherwise return false."
   ]
  },
  {
   "cell_type": "markdown",
   "metadata": {},
   "source": [
    "For 1D, given 2 segments (left1, right1), (left2,right2),\n",
    "\n",
    "if `left1 < right2 && left2 < right1`, this is neccessary and sufficient to overlap.\n",
    "\n",
    "Extending to 2D, we have\n",
    "\n",
    "```python\n",
    "return rec1[x1] < rec2[x2] and rec2[x1] < rec1[x2] and rec1[y1] < rec2[y2] and rec2[y1] < rec1[y2]\n",
    "```"
   ]
  },
  {
   "cell_type": "markdown",
   "metadata": {},
   "source": [
    "## Problem: Find square root efficiently\n",
    "\n",
    "Given a non-negative integer x, return the square root of x rounded down to the nearest integer. The returned integer should be non-negative as well.\n",
    "\n",
    "You must not use any built-in exponent function or operator."
   ]
  },
  {
   "cell_type": "code",
   "execution_count": 12,
   "metadata": {},
   "outputs": [
    {
     "name": "stdout",
     "output_type": "stream",
     "text": [
      "1 15\n",
      "1 7\n",
      "1 3\n",
      "3 3\n",
      "3\n"
     ]
    }
   ],
   "source": [
    "def mySqrt(x: int) -> int:\n",
    "    if x == 0:\n",
    "        return 0\n",
    "    first, last = 1, x\n",
    "    while first <= last:\n",
    "        print(first,last)\n",
    "        mid = first + (last - first) // 2\n",
    "        #integer division\n",
    "        if mid == x // mid:\n",
    "            #this only happens for perfect squares\n",
    "            return mid\n",
    "        elif mid > x // mid:\n",
    "            last = mid - 1\n",
    "        else:\n",
    "            first = mid + 1\n",
    "    return last\n",
    "\n",
    "print(mySqrt(15))"
   ]
  },
  {
   "cell_type": "code",
   "execution_count": 1,
   "metadata": {},
   "outputs": [
    {
     "name": "stdout",
     "output_type": "stream",
     "text": [
      "abc\n"
     ]
    }
   ],
   "source": []
  }
 ],
 "metadata": {
  "kernelspec": {
   "display_name": "venv",
   "language": "python",
   "name": "python3"
  },
  "language_info": {
   "codemirror_mode": {
    "name": "ipython",
    "version": 3
   },
   "file_extension": ".py",
   "mimetype": "text/x-python",
   "name": "python",
   "nbconvert_exporter": "python",
   "pygments_lexer": "ipython3",
   "version": "3.10.12"
  }
 },
 "nbformat": 4,
 "nbformat_minor": 2
}
