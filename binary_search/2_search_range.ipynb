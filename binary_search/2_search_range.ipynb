{
 "cells": [
  {
   "cell_type": "markdown",
   "metadata": {},
   "source": [
    "# Binary Search (Search Range)\n",
    "\n",
    "## Concept\n",
    "\n",
    "Same as SearchArray, but instead of having target to search for, you have a function that tells you if the current number is too big or too small.\n",
    "\n",
    "```python\n",
    "# Binary search on some range of values\n",
    "def binarySearch(low, high):\n",
    "    'INCLUSIVE of low and high'''\n",
    "\n",
    "    while low <= high:\n",
    "        mid = (low + high) // 2\n",
    "\n",
    "        #too big, search left half\n",
    "        if isCorrect(mid) > 0:\n",
    "            high = mid - 1\n",
    "        #too small, search right half\n",
    "        elif isCorrect(mid) < 0:\n",
    "            low = mid + 1\n",
    "        else:\n",
    "            return mid\n",
    "    return -1\n",
    "\n",
    "# Return 1 if n is too big, -1 if too small, 0 if correct\n",
    "def isCorrect(n):\n",
    "    ''' will tell you if the current number is too small/too big etc'''\n",
    "\n",
    "    #too big, search the left half\n",
    "    if n > 10:\n",
    "        return 1\n",
    "    #too small, search right half\n",
    "    elif n < 10:\n",
    "        return -1\n",
    "    else:\n",
    "        return 0\n",
    "```\n",
    "\n",
    "> For questions like these, a predefined method API is given, in this case, isCorrect and you are required to call the function/API as a black-box and use it within your own binary search method.\n",
    "\n",
    "---\n",
    "\n",
    "## Space/Time Complexity\n",
    "\n",
    "Since this is a traditional binary search problem, the time complexity is O(log n) where $n$ is the size of the search space.\n",
    "\n",
    "No additional space is used in this implementation, so the space complexity is O(1)"
   ]
  },
  {
   "cell_type": "markdown",
   "metadata": {},
   "source": [
    "## Problem: IsBad\n",
    "\n",
    "**Note this implementation is a little different from BinarySearch with a single target, this time we're searching over when a condition occurs, everything below is Good and everything above is Bad. This is a pretty common condition**\n",
    "\n",
    "Suppose you have n versions [1, 2, ..., n] and you want to find out the first bad one, which causes all the following ones to be bad. So if the first bad is 3, and n is 5, then 3,4,5 is bad.\n",
    "\n",
    "You are given an API bool isBadVersion(version) which returns whether version is bad. Implement a function to find the first bad version. You should minimize the number of calls to the API.\n",
    "\n",
    "```python\n",
    "def firstBadVersion(self, n):\n",
    "    '''you basically wanna make it such that i is good and j is bad. Then the last loop will run and i+1==j'''\n",
    "    #start from 1 as the list starts from one\n",
    "    i = 1 #this is low\n",
    "    j = n #this is high\n",
    "    while (i < j):\n",
    "        pivot = (i+j) // 2 #this is mid\n",
    "\n",
    "        #too big, search left\n",
    "        if (isBadVersion(pivot)):\n",
    "            j = pivot       # This pivot will now be the rightmost 'bad' thing, INCLUSIVE. always keep this bad\n",
    "        else:\n",
    "            i = pivot + 1   # retain the elem after this good, could be good or bad\n",
    "    return i\n",
    "```\n",
    "\n",
    " "
   ]
  },
  {
   "cell_type": "markdown",
   "metadata": {},
   "source": [
    "## Problem: KOKO eating banana"
   ]
  },
  {
   "cell_type": "code",
   "execution_count": 17,
   "metadata": {},
   "outputs": [
    {
     "name": "stdout",
     "output_type": "stream",
     "text": [
      "1\n",
      "1\n"
     ]
    }
   ],
   "source": [
    "import bisect, math\n",
    "def minEatingSpeed(piles, h) -> int:\n",
    "        '''reduce the eating speed\n",
    "        \n",
    "        strat: try the lowest number and see if it fulfills;\n",
    "        this way you consume one pile immediately.\n",
    "        \n",
    "        try the next lowest number and see if it works\n",
    "        \n",
    "        to do this search process faster, we use binary search'''\n",
    "\n",
    "        #first we sort the piles, in-place sorting\n",
    "        piles.sort()\n",
    "\n",
    "        def num_work(n):\n",
    "            '''check if the eating speed n works within h hours'''\n",
    "            times = sum([math.ceil(pile / n) for pile in piles])\n",
    "            #print(times)\n",
    "            return times <= h\n",
    "    \n",
    "        # Create a list of booleans for bisect to search through\n",
    "        speeds = range(1, max(piles) + 1)\n",
    "        \n",
    "        #BISECT RETURNS THE INDEX OF THE LIST, need to index into the list to return the value\n",
    "        return speeds[bisect.bisect_left(speeds,True, key=num_work)]\n",
    "        \n",
    "print(minEatingSpeed([1,4,3,2],9))\n",
    "print(minEatingSpeed([25,10,23,4],4))"
   ]
  }
 ],
 "metadata": {
  "kernelspec": {
   "display_name": "venv",
   "language": "python",
   "name": "python3"
  },
  "language_info": {
   "codemirror_mode": {
    "name": "ipython",
    "version": 3
   },
   "file_extension": ".py",
   "mimetype": "text/x-python",
   "name": "python",
   "nbconvert_exporter": "python",
   "pygments_lexer": "ipython3",
   "version": "3.10.12"
  }
 },
 "nbformat": 4,
 "nbformat_minor": 2
}
