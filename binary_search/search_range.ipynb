{
 "cells": [
  {
   "cell_type": "markdown",
   "metadata": {},
   "source": [
    "# Binary Search (Search Range)\n",
    "\n",
    "## Concept\n",
    "\n",
    "Same as SearchArray, but instead of having target to search for, you have a function that tells you if the current number is too big or too small.\n",
    "\n",
    "```python\n",
    "# Binary search on some range of values\n",
    "def binarySearch(low, high):\n",
    "    'INCLUSIVE of low and high'''\n",
    "\n",
    "    while low <= high:\n",
    "        mid = (low + high) // 2\n",
    "\n",
    "        #too big, search left half\n",
    "        if isCorrect(mid) > 0:\n",
    "            high = mid - 1\n",
    "        #too small, search right half\n",
    "        elif isCorrect(mid) < 0:\n",
    "            low = mid + 1\n",
    "        else:\n",
    "            return mid\n",
    "    return -1\n",
    "\n",
    "# Return 1 if n is too big, -1 if too small, 0 if correct\n",
    "def isCorrect(n):\n",
    "    ''' will tell you if the current number is too small/too big etc'''\n",
    "\n",
    "    #too big, search the left half\n",
    "    if n > 10:\n",
    "        return 1\n",
    "    #too small, search right half\n",
    "    elif n < 10:\n",
    "        return -1\n",
    "    else:\n",
    "        return 0\n",
    "```\n",
    "\n",
    "> For questions like these, a predefined method API is given, in this case, isCorrect and you are required to call the function/API as a black-box and use it within your own binary search method.\n",
    "\n",
    "---\n",
    "\n",
    "## Space/Time Complexity\n",
    "\n",
    "Since this is a traditional binary search problem, the time complexity is O(log n) where $n$ is the size of the search space.\n",
    "\n",
    "No additional space is used in this implementation, so the space complexity is O(1)"
   ]
  }
 ],
 "metadata": {
  "language_info": {
   "name": "python"
  }
 },
 "nbformat": 4,
 "nbformat_minor": 2
}
